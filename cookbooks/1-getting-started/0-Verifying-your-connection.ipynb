{
  "nbformat": 4,
  "nbformat_minor": 0,
  "metadata": {
    "colab": {
      "name": "0-Verifying-your-connection.ipynb",
      "provenance": [],
      "collapsed_sections": []
    },
    "kernelspec": {
      "display_name": "Python 3",
      "language": "python",
      "name": "python3"
    },
    "language_info": {
      "codemirror_mode": {
        "name": "ipython",
        "version": 3
      },
      "file_extension": ".py",
      "mimetype": "text/x-python",
      "name": "python",
      "nbconvert_exporter": "python",
      "pygments_lexer": "ipython3",
      "version": "3.8.5"
    }
  },
  "cells": [
    {
      "cell_type": "markdown",
      "metadata": {
        "Collapsed": "false",
        "id": "aPDbtInb9UBa"
      },
      "source": [
        "# Verifying Your API Connection\n",
        "The purpose of this notebook is to verify that you can access the [Dimensions Analytics API](https://www.dimensions.ai/dimensions-apis/) using Python. \n",
        "\n",
        "> **Please note** only Dimensions users with an Analytics API subscription can access this service. \n",
        "\n",
        "### Technical prerequisites\n",
        "This guide assumes that you already have a Python 3 working environment and [pip](https://pypi.org/project/pip/) (the python package manager) installed. For more background, see this [link](https://realpython.com/installing-python/).\n",
        "\n",
        "The only library needed for this exercise is `requests`, which can be installed as follows\n"
      ]
    },
    {
      "cell_type": "code",
      "metadata": {
        "Collapsed": "false",
        "colab": {
          "base_uri": "https://localhost:8080/"
        },
        "id": "cZj9Mnf39UBa",
        "outputId": "b8cd5f1a-6a24-43ed-e80b-9696f72a337c"
      },
      "source": [
        "!pip install requests "
      ],
      "execution_count": 1,
      "outputs": [
        {
          "output_type": "stream",
          "text": [
            "Requirement already satisfied: requests in /usr/local/lib/python3.7/dist-packages (2.23.0)\n",
            "Requirement already satisfied: idna<3,>=2.5 in /usr/local/lib/python3.7/dist-packages (from requests) (2.10)\n",
            "Requirement already satisfied: chardet<4,>=3.0.2 in /usr/local/lib/python3.7/dist-packages (from requests) (3.0.4)\n",
            "Requirement already satisfied: certifi>=2017.4.17 in /usr/local/lib/python3.7/dist-packages (from requests) (2020.12.5)\n",
            "Requirement already satisfied: urllib3!=1.25.0,!=1.25.1,<1.26,>=1.21.1 in /usr/local/lib/python3.7/dist-packages (from requests) (1.24.3)\n"
          ],
          "name": "stdout"
        }
      ]
    },
    {
      "cell_type": "code",
      "metadata": {
        "Collapsed": "false",
        "id": "Vp2Mf-cT9UBe"
      },
      "source": [
        "import requests"
      ],
      "execution_count": 3,
      "outputs": []
    },
    {
      "cell_type": "markdown",
      "metadata": {
        "Collapsed": "false",
        "id": "04jlpszd9UBf"
      },
      "source": [
        "### Connecting to the API using a `key`"
      ]
    },
    {
      "cell_type": "markdown",
      "metadata": {
        "Collapsed": "false",
        "id": "mnbDqQPa9UBg"
      },
      "source": [
        "If you have access to the Analytics API, simply get an API key from the Dimensions webapp (My Account > General Settings > API key and click \"Create API key\") and fill in the parameters below with your details (see also [this page](https://dimensions.freshdesk.com/support/solutions/articles/23000018791)). \n",
        "\n"
      ]
    },
    {
      "cell_type": "code",
      "metadata": {
        "Collapsed": "false",
        "id": "IpqK5EYd9UBh"
      },
      "source": [
        "KEY = '79CDBE31B76B41F08052F6A4628964A8' # your private API key\n",
        "ENDPOINT = 'app.dimensions.ai'  # the Dimensions server you are using"
      ],
      "execution_count": 5,
      "outputs": []
    },
    {
      "cell_type": "markdown",
      "metadata": {
        "Collapsed": "false",
        "id": "dlYYoXIk9UBi"
      },
      "source": [
        "Now try running the script below to verify your connection.\n"
      ]
    },
    {
      "cell_type": "code",
      "metadata": {
        "Collapsed": "false",
        "colab": {
          "base_uri": "https://localhost:8080/"
        },
        "id": "XhfkBBcV9UBj",
        "outputId": "45fb198a-8859-4818-8a6e-b33c2226d6a8"
      },
      "source": [
        "#   The credentials to be used\n",
        "login = {\n",
        "    'key': KEY\n",
        "}\n",
        "\n",
        "#   Send credentials to login url to retrieve token. Raise\n",
        "#   an error, if the return code indicates a problem.\n",
        "#   Please use the URL of the system you'd like to access the API\n",
        "#   in the example below.\n",
        "resp = requests.post(f'https://{ENDPOINT}/api/auth.json', json=login)\n",
        "resp.raise_for_status()\n",
        "\n",
        "#   Create http header using the generated token.\n",
        "headers = {\n",
        "    'Authorization': \"JWT \" + resp.json()['token']\n",
        "}\n",
        "\n",
        "#   Execute DSL query.\n",
        "resp = requests.post(\n",
        "    f'https://{ENDPOINT}/api/dsl.json',\n",
        "    data='search publications for \"乳がん\" return publications'.encode(),\n",
        "    headers=headers)\n",
        "\n",
        "#   Display raw result\n",
        "print(resp.json())"
      ],
      "execution_count": 6,
      "outputs": [
        {
          "output_type": "stream",
          "text": [
            "{'_stats': {'total_count': 279002}, '_version': {'release': '1.30', 'version': '1.30.0'}, '_copyright': '© 2020 Digital Science & Research Solutions Inc. All rights reserved. Please refer to our Copyright Notice https://terms.dsrsi.com/public/DimensionsCopyrightNotice for further information.', 'publications': [{'volume': '141', 'type': 'article', 'pages': '675-679', 'issue': '5', 'title': 'トランス脂肪酸による毒性発現の分子メカニズムと関連疾患の発症予防', 'journal': {'id': 'jour.1019194', 'title': 'Yakugaku Zasshi'}, 'year': 2021, 'author_affiliations': [[{'raw_affiliation': ['東北大学大学院薬学研究科衛生化学分野'], 'first_name': '松沢', 'last_name': '厚', 'corresponding': '', 'orcid': '', 'current_organization_id': '', 'researcher_id': '', 'affiliations': [{'name': '東北大学大学院薬学研究科衛生化学分野'}]}]], 'id': 'pub.1137660101'}, {'volume': '28', 'type': 'article', 'pages': '232-233', 'issue': '3', 'title': '悪性症候群を疑うことが困難であった頸髄損傷の1例', 'journal': {'id': 'jour.1032947', 'title': 'Journal of the Japanese Society of Intensive Care Medicine'}, 'year': 2021, 'author_affiliations': [[{'raw_affiliation': ['藤沢市民病院救命救急センター'], 'first_name': '赤坂', 'last_name': '理', 'corresponding': '', 'orcid': '', 'current_organization_id': '', 'researcher_id': '', 'affiliations': [{'name': '藤沢市民病院救命救急センター'}]}, {'raw_affiliation': ['藤沢市民病院救命救急センター'], 'first_name': '長嶋', 'last_name': '一樹', 'corresponding': '', 'orcid': '', 'current_organization_id': '', 'researcher_id': '', 'affiliations': [{'name': '藤沢市民病院救命救急センター'}]}, {'raw_affiliation': ['藤沢市民病院救命救急センター'], 'first_name': '澤井', 'last_name': '啓介', 'corresponding': '', 'orcid': '', 'current_organization_id': '', 'researcher_id': '', 'affiliations': [{'name': '藤沢市民病院救命救急センター'}]}, {'raw_affiliation': ['藤沢市民病院救命救急センター'], 'first_name': '阿南', 'last_name': '英明', 'corresponding': '', 'orcid': '', 'current_organization_id': '', 'researcher_id': '', 'affiliations': [{'name': '藤沢市民病院救命救急センター'}]}]], 'id': 'pub.1137677617'}, {'volume': '141', 'type': 'article', 'pages': '614-619', 'issue': '5', 'title': 'ラット聴覚野と視覚野からの皮質脳波の同時計測', 'journal': {'id': 'jour.1137226', 'title': 'IEEJ Transactions on Electronics Information and Systems'}, 'year': 2021, 'author_affiliations': [[{'raw_affiliation': ['Graduate School of Information Science and Technology, The University of Tokyo'], 'first_name': 'Kanato', 'last_name': 'Mori', 'corresponding': '', 'orcid': '', 'current_organization_id': '', 'researcher_id': '', 'affiliations': [{'raw_affiliation': 'Graduate School of Information Science and Technology, The University of Tokyo', 'id': 'grid.26999.3d', 'name': 'University of Tokyo', 'city': 'Tokyo', 'city_id': 1850147, 'country': 'Japan', 'country_code': 'JP', 'state': None, 'state_code': None}]}, {'raw_affiliation': ['Graduate School of Information Science and Technology, The University of Tokyo'], 'first_name': 'Tomoyo', 'last_name': 'Isoguchi Shiramatsu', 'corresponding': '', 'orcid': '', 'current_organization_id': '', 'researcher_id': '', 'affiliations': [{'raw_affiliation': 'Graduate School of Information Science and Technology, The University of Tokyo', 'id': 'grid.26999.3d', 'name': 'University of Tokyo', 'city': 'Tokyo', 'city_id': 1850147, 'country': 'Japan', 'country_code': 'JP', 'state': None, 'state_code': None}]}, {'raw_affiliation': ['Institute for Quantitave Bioscience, The University of Tokyo'], 'first_name': 'Kotaro', 'last_name': 'Ishizu', 'corresponding': '', 'orcid': '', 'current_organization_id': '', 'researcher_id': '', 'affiliations': [{'raw_affiliation': 'Institute for Quantitave Bioscience, The University of Tokyo', 'id': 'grid.26999.3d', 'name': 'University of Tokyo', 'city': 'Tokyo', 'city_id': 1850147, 'country': 'Japan', 'country_code': 'JP', 'state': None, 'state_code': None}]}, {'raw_affiliation': ['Graduate School of Information Science and Technology, The University of Tokyo'], 'first_name': 'Hirokazu', 'last_name': 'Takahashi', 'corresponding': '', 'orcid': '', 'current_organization_id': '', 'researcher_id': '', 'affiliations': [{'raw_affiliation': 'Graduate School of Information Science and Technology, The University of Tokyo', 'id': 'grid.26999.3d', 'name': 'University of Tokyo', 'city': 'Tokyo', 'city_id': 1850147, 'country': 'Japan', 'country_code': 'JP', 'state': None, 'state_code': None}]}]], 'id': 'pub.1137662213'}, {'volume': '141', 'type': 'article', 'pages': '669-674', 'issue': '5', 'title': 'ビタミンKの生体内変換機構の消失により起こる疾患とその予防', 'journal': {'id': 'jour.1019194', 'title': 'Yakugaku Zasshi'}, 'year': 2021, 'author_affiliations': [[{'raw_affiliation': ['神戸薬科大学衛生化学研究室'], 'first_name': '中川', 'last_name': '公恵', 'corresponding': '', 'orcid': '', 'current_organization_id': '', 'researcher_id': '', 'affiliations': [{'name': '神戸薬科大学衛生化学研究室'}]}]], 'id': 'pub.1137660100'}, {'volume': '28', 'type': 'article', 'pages': '224-226', 'issue': '3', 'title': 'Meropenemの間欠投与から持続投与への変更の有効性が示唆された小児心臓血管外科術後のSerratia marcescens持続菌血症の1例', 'journal': {'id': 'jour.1032947', 'title': 'Journal of the Japanese Society of Intensive Care Medicine'}, 'year': 2021, 'author_affiliations': [[{'raw_affiliation': ['沖縄県立南部医療センター・こども医療センター小児集中治療科'], 'first_name': '神納', 'last_name': '幸治', 'corresponding': '', 'orcid': '', 'current_organization_id': '', 'researcher_id': '', 'affiliations': [{'name': '沖縄県立南部医療センター・こども医療センター小児集中治療科'}]}, {'raw_affiliation': ['沖縄県立南部医療センター・こども医療センター小児集中治療科'], 'first_name': '藤原', 'last_name': '直樹', 'corresponding': '', 'orcid': '', 'current_organization_id': '', 'researcher_id': '', 'affiliations': [{'name': '沖縄県立南部医療センター・こども医療センター小児集中治療科'}]}, {'raw_affiliation': ['沖縄県立南部医療センター・こども医療センター小児集中治療科'], 'first_name': '差波', 'last_name': '新', 'corresponding': '', 'orcid': '', 'current_organization_id': '', 'researcher_id': '', 'affiliations': [{'name': '沖縄県立南部医療センター・こども医療センター小児集中治療科'}]}, {'raw_affiliation': ['沖縄県立南部医療センター・こども医療センター小児集中治療科'], 'first_name': '成田', 'last_name': '雅', 'corresponding': '', 'orcid': '', 'current_organization_id': '', 'researcher_id': '', 'affiliations': [{'name': '沖縄県立南部医療センター・こども医療センター小児集中治療科'}]}]], 'id': 'pub.1137677614'}, {'volume': '141', 'type': 'article', 'pages': '681-688', 'issue': '5', 'title': '食と腸内細菌が作り出す脂質環境の理解と疾患予防戦略への展開', 'journal': {'id': 'jour.1019194', 'title': 'Yakugaku Zasshi'}, 'year': 2021, 'author_affiliations': [[{'raw_affiliation': ['国立研究開発法人医薬基盤・健康・栄養研究所ワクチン・アジュバント研究センターワクチンマテリアルプロジェクト＆腸内環境システムプロジェクト', '大阪大学大学院薬学研究科'], 'first_name': '雑賀', 'last_name': 'あずさ', 'corresponding': '', 'orcid': '', 'current_organization_id': '', 'researcher_id': '', 'affiliations': [{'name': '国立研究開発法人医薬基盤・健康・栄養研究所ワクチン・アジュバント研究センターワクチンマテリアルプロジェクト＆腸内環境システムプロジェクト'}, {'raw_affiliation': '大阪大学大学院薬学研究科', 'id': 'grid.136593.b', 'name': 'Osaka University', 'city': 'Osaka', 'city_id': 1853909, 'country': 'Japan', 'country_code': 'JP', 'state': None, 'state_code': None}]}, {'raw_affiliation': ['国立研究開発法人医薬基盤・健康・栄養研究所ワクチン・アジュバント研究センターワクチンマテリアルプロジェクト＆腸内環境システムプロジェクト', '大阪大学大学院薬学研究科', '東京大学医科学研究所国際粘膜ワクチン開発研究センター', '大阪大学大学院医学系研究科', '大阪大学大学院歯学研究科', '神戸大学大学院医学研究科', '広島大学歯学部', '早稲田大学ナノ・ライフ創新研究機構'], 'first_name': '國澤', 'last_name': '純', 'corresponding': '', 'orcid': '', 'current_organization_id': '', 'researcher_id': '', 'affiliations': [{'name': '国立研究開発法人医薬基盤・健康・栄養研究所ワクチン・アジュバント研究センターワクチンマテリアルプロジェクト＆腸内環境システムプロジェクト'}, {'raw_affiliation': '大阪大学大学院薬学研究科', 'id': 'grid.136593.b', 'name': 'Osaka University', 'city': 'Osaka', 'city_id': 1853909, 'country': 'Japan', 'country_code': 'JP', 'state': None, 'state_code': None}, {'name': '東京大学医科学研究所国際粘膜ワクチン開発研究センター'}, {'raw_affiliation': '大阪大学大学院医学系研究科', 'id': 'grid.136593.b', 'name': 'Osaka University', 'city': 'Osaka', 'city_id': 1853909, 'country': 'Japan', 'country_code': 'JP', 'state': None, 'state_code': None}, {'name': '大阪大学大学院歯学研究科'}, {'name': '神戸大学大学院医学研究科'}, {'raw_affiliation': '広島大学歯学部', 'id': 'grid.257022.0', 'name': 'Hiroshima University', 'city': 'Hiroshima', 'city_id': 1862415, 'country': 'Japan', 'country_code': 'JP', 'state': None, 'state_code': None}, {'name': '早稲田大学ナノ・ライフ創新研究機構'}]}]], 'id': 'pub.1137660102'}, {'volume': '141', 'type': 'article', 'pages': '627-633', 'issue': '5', 'title': '視床刺激が聴知覚に及ぼす影響を評価する実験系の構築', 'journal': {'id': 'jour.1137226', 'title': 'IEEJ Transactions on Electronics Information and Systems'}, 'year': 2021, 'author_affiliations': [[{'raw_affiliation': ['東京大学大学院情報理工学系研究科'], 'first_name': '白松', 'last_name': '知世', 'corresponding': '', 'orcid': '', 'current_organization_id': '', 'researcher_id': '', 'affiliations': [{'raw_affiliation': '東京大学大学院情報理工学系研究科', 'id': 'grid.26999.3d', 'name': 'University of Tokyo', 'city': 'Tokyo', 'city_id': 1850147, 'country': 'Japan', 'country_code': 'JP', 'state': None, 'state_code': None}]}, {'raw_affiliation': ['東京大学大学院情報理工学系研究科'], 'first_name': '阿部', 'last_name': '泰己', 'corresponding': '', 'orcid': '', 'current_organization_id': '', 'researcher_id': '', 'affiliations': [{'raw_affiliation': '東京大学大学院情報理工学系研究科', 'id': 'grid.26999.3d', 'name': 'University of Tokyo', 'city': 'Tokyo', 'city_id': 1850147, 'country': 'Japan', 'country_code': 'JP', 'state': None, 'state_code': None}]}, {'raw_affiliation': ['東京大学定量生命科学研究所'], 'first_name': '石津', 'last_name': '光太郎', 'corresponding': '', 'orcid': '', 'current_organization_id': '', 'researcher_id': '', 'affiliations': [{'name': '東京大学定量生命科学研究所'}]}, {'raw_affiliation': ['東京大学大学院情報理工学系研究科'], 'first_name': '高橋', 'last_name': '宏知', 'corresponding': '', 'orcid': '', 'current_organization_id': '', 'researcher_id': '', 'affiliations': [{'raw_affiliation': '東京大学大学院情報理工学系研究科', 'id': 'grid.26999.3d', 'name': 'University of Tokyo', 'city': 'Tokyo', 'city_id': 1850147, 'country': 'Japan', 'country_code': 'JP', 'state': None, 'state_code': None}]}]], 'id': 'pub.1137662215'}, {'volume': '141', 'type': 'article', 'pages': '695-703', 'issue': '5', 'title': 'マンガン,カドミウムの必須性・毒性を左右する亜鉛輸送体の役割', 'journal': {'id': 'jour.1019194', 'title': 'Yakugaku Zasshi'}, 'year': 2021, 'author_affiliations': [[{'raw_affiliation': ['徳島文理大学薬学部'], 'first_name': '姫野', 'last_name': '誠一郎', 'corresponding': '', 'orcid': '', 'current_organization_id': '', 'researcher_id': '', 'affiliations': [{'name': '徳島文理大学薬学部'}]}, {'raw_affiliation': ['徳島文理大学薬学部'], 'first_name': '藤代', 'last_name': '瞳', 'corresponding': '', 'orcid': '', 'current_organization_id': '', 'researcher_id': '', 'affiliations': [{'name': '徳島文理大学薬学部'}]}]], 'id': 'pub.1137660104'}, {'volume': '28', 'type': 'article', 'pages': '237-254', 'issue': '3', 'title': '集中治療領域で働く理学療法士のためのミニマムスタンダード:医師,看護師および理学療法士による合意形成', 'journal': {'id': 'jour.1032947', 'title': 'Journal of the Japanese Society of Intensive Care Medicine'}, 'year': 2021, 'author_affiliations': [[{'raw_affiliation': [], 'first_name': '', 'last_name': '日本集中治療医学会集中治療PT・OT・ST委員会', 'corresponding': '', 'orcid': '', 'current_organization_id': '', 'researcher_id': '', 'affiliations': []}, {'raw_affiliation': [], 'first_name': '', 'last_name': '集中治療に従事する理学療法士等の能力要素検討ワーキンググループ', 'corresponding': '', 'orcid': '', 'current_organization_id': '', 'researcher_id': '', 'affiliations': []}]], 'id': 'pub.1137677619'}, {'volume': '28', 'type': 'article', 'pages': '217-218', 'issue': '3', 'title': '敗血症性ショックに対してveno arterial venous-ECMOを導入した一例', 'journal': {'id': 'jour.1032947', 'title': 'Journal of the Japanese Society of Intensive Care Medicine'}, 'year': 2021, 'author_affiliations': [[{'raw_affiliation': ['大垣市民病院麻酔科'], 'first_name': '横山', 'last_name': '達郎', 'corresponding': '', 'orcid': '', 'current_organization_id': '', 'researcher_id': '', 'affiliations': [{'name': '大垣市民病院麻酔科'}]}, {'raw_affiliation': ['大垣市民病院麻酔科'], 'first_name': '伊東', 'last_name': '遼平', 'corresponding': '', 'orcid': '', 'current_organization_id': '', 'researcher_id': '', 'affiliations': [{'name': '大垣市民病院麻酔科'}]}, {'raw_affiliation': ['大垣市民病院麻酔科'], 'first_name': '岡本', 'last_name': '文乃', 'corresponding': '', 'orcid': '', 'current_organization_id': '', 'researcher_id': '', 'affiliations': [{'name': '大垣市民病院麻酔科'}]}, {'raw_affiliation': ['大垣市民病院麻酔科'], 'first_name': '和田', 'last_name': '玲太朗', 'corresponding': '', 'orcid': '', 'current_organization_id': '', 'researcher_id': '', 'affiliations': [{'name': '大垣市民病院麻酔科'}]}, {'raw_affiliation': ['大垣市民病院麻酔科'], 'first_name': '吉川', 'last_name': '晃士朗', 'corresponding': '', 'orcid': '', 'current_organization_id': '', 'researcher_id': '', 'affiliations': [{'name': '大垣市民病院麻酔科'}]}, {'raw_affiliation': ['大垣市民病院麻酔科'], 'first_name': '柴田', 'last_name': '紘葉', 'corresponding': '', 'orcid': '', 'current_organization_id': '', 'researcher_id': '', 'affiliations': [{'name': '大垣市民病院麻酔科'}]}, {'raw_affiliation': ['大垣市民病院麻酔科'], 'first_name': '高須', 'last_name': '昭彦', 'corresponding': '', 'orcid': '', 'current_organization_id': '', 'researcher_id': '', 'affiliations': [{'name': '大垣市民病院麻酔科'}]}]], 'id': 'pub.1137677611'}, {'volume': '31', 'type': 'article', 'pages': '44-58', 'issue': '2', 'title': '誰が「よそ者」で誰が「多数派」を代弁するのか ―エクアドル・インタグ地域における資源開発問題―', 'journal': {'id': 'jour.1369873', 'title': 'ラテンアメリカ・レポート'}, 'year': 2021, 'author_affiliations': [[{'raw_affiliation': ['経済研究所'], 'first_name': '上谷', 'last_name': '直克', 'corresponding': '', 'orcid': '', 'current_organization_id': '', 'researcher_id': '', 'affiliations': [{'name': '経済研究所'}]}]], 'id': 'pub.1137685632'}, {'volume': '31', 'type': 'article', 'pages': '37-44', 'title': 'こどもの造形活動を支える保育者の育成 大学と現場をつなぐ教材研究を通して', 'journal': {'id': 'jour.1369201', 'title': '教材学研究'}, 'year': 2021, 'author_affiliations': [[{'raw_affiliation': ['九州大谷短期大学'], 'first_name': '恒賀', 'last_name': '康太郎', 'corresponding': '', 'orcid': '', 'current_organization_id': '', 'researcher_id': '', 'affiliations': [{'name': '九州大谷短期大学'}]}, {'raw_affiliation': ['九州大谷短期大学'], 'first_name': '橋本', 'last_name': '真理子', 'corresponding': '', 'orcid': '', 'current_organization_id': '', 'researcher_id': '', 'affiliations': [{'name': '九州大谷短期大学'}]}, {'raw_affiliation': ['九州大谷短期大学'], 'first_name': '永山', 'last_name': '寛', 'corresponding': '', 'orcid': '', 'current_organization_id': '', 'researcher_id': '', 'affiliations': [{'name': '九州大谷短期大学'}]}]], 'id': 'pub.1137684698'}, {'volume': '31', 'type': 'article', 'pages': '19-28', 'title': '教材の発展がコンフリクトの自立的生成に及ぼす影響', 'journal': {'id': 'jour.1369201', 'title': '教材学研究'}, 'year': 2021, 'author_affiliations': [[{'raw_affiliation': ['松本大学'], 'first_name': '澤柿', 'last_name': '教淳', 'corresponding': '', 'orcid': '', 'current_organization_id': '', 'researcher_id': '', 'affiliations': [{'name': '松本大学'}]}]], 'id': 'pub.1137684271'}, {'volume': '23', 'type': 'article', 'pages': '1_47-1_60', 'issue': '1', 'title': '生産者情報の「見える化」が食品の心理的安全評価・品質の評価に与える効果', 'journal': {'id': 'jour.1369140', 'title': '消費者行動研究'}, 'year': 2021, 'author_affiliations': [[{'raw_affiliation': ['静岡大学'], 'first_name': '青山', 'last_name': '郁子', 'corresponding': '', 'orcid': '', 'current_organization_id': '', 'researcher_id': '', 'affiliations': [{'raw_affiliation': '静岡大学', 'id': 'grid.263536.7', 'name': 'Shizuoka University', 'city': 'Shizuoka', 'city_id': 1851717, 'country': 'Japan', 'country_code': 'JP', 'state': None, 'state_code': None}]}, {'raw_affiliation': ['千葉大学'], 'first_name': '朱', 'last_name': '驊', 'corresponding': '', 'orcid': '', 'current_organization_id': '', 'researcher_id': '', 'affiliations': [{'raw_affiliation': '千葉大学', 'id': 'grid.136304.3', 'name': 'Chiba University', 'city': 'Chiba', 'city_id': 2113015, 'country': 'Japan', 'country_code': 'JP', 'state': None, 'state_code': None}]}, {'raw_affiliation': ['千葉大学'], 'first_name': '小山', 'last_name': '慎一', 'corresponding': '', 'orcid': '', 'current_organization_id': '', 'researcher_id': '', 'affiliations': [{'raw_affiliation': '千葉大学', 'id': 'grid.136304.3', 'name': 'Chiba University', 'city': 'Chiba', 'city_id': 2113015, 'country': 'Japan', 'country_code': 'JP', 'state': None, 'state_code': None}]}, {'raw_affiliation': ['食品総合研究所'], 'first_name': '和田', 'last_name': '有史', 'corresponding': '', 'orcid': '', 'current_organization_id': '', 'researcher_id': '', 'affiliations': [{'name': '食品総合研究所'}]}, {'raw_affiliation': ['千葉大学'], 'first_name': '日比野', 'last_name': '治雄', 'corresponding': '', 'orcid': '', 'current_organization_id': '', 'researcher_id': '', 'affiliations': [{'raw_affiliation': '千葉大学', 'id': 'grid.136304.3', 'name': 'Chiba University', 'city': 'Chiba', 'city_id': 2113015, 'country': 'Japan', 'country_code': 'JP', 'state': None, 'state_code': None}]}]], 'id': 'pub.1137684811'}, {'type': 'article', 'pages': '268-269', 'title': '横内川水源涵養保安林区域生態動向調査', 'year': 2021, 'author_affiliations': [[{'raw_affiliation': ['青森市企業局'], 'first_name': '赤坂', 'last_name': '遼平', 'corresponding': '', 'orcid': '', 'current_organization_id': '', 'researcher_id': '', 'affiliations': [{'name': '青森市企業局'}]}, {'raw_affiliation': ['青森市企業局'], 'first_name': '油川', 'last_name': '一紀', 'corresponding': '', 'orcid': '', 'current_organization_id': '', 'researcher_id': '', 'affiliations': [{'name': '青森市企業局'}]}, {'raw_affiliation': ['青森市企業局'], 'first_name': '古川', 'last_name': '紗耶香', 'corresponding': '', 'orcid': '', 'current_organization_id': '', 'researcher_id': '', 'affiliations': [{'name': '青森市企業局'}]}, {'raw_affiliation': ['岩手大学'], 'first_name': '山崎', 'last_name': '朗子', 'corresponding': '', 'orcid': '', 'current_organization_id': '', 'researcher_id': '', 'affiliations': [{'raw_affiliation': '岩手大学', 'id': 'grid.411792.8', 'name': 'Iwate University', 'city': 'Morioka', 'city_id': 2111834, 'country': 'Japan', 'country_code': 'JP', 'state': None, 'state_code': None}]}]], 'id': 'pub.1137684562'}, {'volume': '30', 'type': 'article', 'pages': '61-68', 'title': '持続可能な社会を目指した図画工作科の廃材を活用した表現活動', 'journal': {'id': 'jour.1369201', 'title': '教材学研究'}, 'year': 2021, 'author_affiliations': [[{'raw_affiliation': ['東京学芸大学大学院連合学校教育学研究科'], 'first_name': '松井', 'last_name': '素子', 'corresponding': '', 'orcid': '', 'current_organization_id': '', 'researcher_id': '', 'affiliations': [{'raw_affiliation': '東京学芸大学大学院連合学校教育学研究科', 'id': 'grid.412776.1', 'name': 'Tokyo Gakugei University', 'city': 'Tokyo', 'city_id': 1850147, 'country': 'Japan', 'country_code': 'JP', 'state': None, 'state_code': None}]}]], 'id': 'pub.1137685419'}, {'type': 'article', 'pages': '14-15', 'title': '「はまっ子どうし The Water」が繋ぐピンクリボン運動の輪', 'year': 2021, 'author_affiliations': [[{'raw_affiliation': ['横浜市水道局'], 'first_name': '玉井', 'last_name': '章弘', 'corresponding': '', 'orcid': '', 'current_organization_id': '', 'researcher_id': '', 'affiliations': [{'name': '横浜市水道局'}]}]], 'id': 'pub.1137685141'}, {'type': 'article', 'pages': '20-125', 'title': '食品摂取の多様性向上を目的とした10食品群の摂取チェック表『食べポチェック表』の効果に関する検討', 'journal': {'id': 'jour.1065146', 'title': '日本公衆衛生雑誌'}, 'year': 2021, 'author_affiliations': [[{'raw_affiliation': ['Research Team for Social Participation and Community Health, Tokyo Metropolitan Institute of Gerontology.', 'Department of Food and Nutritional Science, Graduate School of Applied Bioscience, Tokyo University of Agriculture.'], 'first_name': 'Toshiki', 'last_name': 'Hata', 'corresponding': '', 'orcid': '', 'current_organization_id': '', 'researcher_id': '', 'affiliations': [{'name': 'Research Team for Social Participation and Community Health, Tokyo Metropolitan Institute of Gerontology.'}, {'name': 'Department of Food and Nutritional Science, Graduate School of Applied Bioscience, Tokyo University of Agriculture.'}]}, {'raw_affiliation': ['Research Team for Social Participation and Community Health, Tokyo Metropolitan Institute of Gerontology.'], 'first_name': 'Satoshi', 'last_name': 'Seino', 'corresponding': '', 'orcid': '', 'current_organization_id': '', 'researcher_id': '', 'affiliations': [{'name': 'Research Team for Social Participation and Community Health, Tokyo Metropolitan Institute of Gerontology.'}]}, {'raw_affiliation': ['Research Team for Social Participation and Community Health, Tokyo Metropolitan Institute of Gerontology.'], 'first_name': 'Yui', 'last_name': 'Tomine', 'corresponding': '', 'orcid': '', 'current_organization_id': '', 'researcher_id': '', 'affiliations': [{'name': 'Research Team for Social Participation and Community Health, Tokyo Metropolitan Institute of Gerontology.'}]}, {'raw_affiliation': ['Research Team for Social Participation and Community Health, Tokyo Metropolitan Institute of Gerontology.'], 'first_name': 'Yuri', 'last_name': 'Yokoyama', 'corresponding': '', 'orcid': '', 'current_organization_id': '', 'researcher_id': '', 'affiliations': [{'name': 'Research Team for Social Participation and Community Health, Tokyo Metropolitan Institute of Gerontology.'}]}, {'raw_affiliation': ['Research Team for Social Participation and Community Health, Tokyo Metropolitan Institute of Gerontology.'], 'first_name': 'Mariko', 'last_name': 'Nishi', 'corresponding': '', 'orcid': '', 'current_organization_id': '', 'researcher_id': '', 'affiliations': [{'name': 'Research Team for Social Participation and Community Health, Tokyo Metropolitan Institute of Gerontology.'}]}, {'raw_affiliation': ['Research Team for Social Participation and Community Health, Tokyo Metropolitan Institute of Gerontology.'], 'first_name': 'Miki', 'last_name': 'Narita', 'corresponding': '', 'orcid': '', 'current_organization_id': '', 'researcher_id': '', 'affiliations': [{'name': 'Research Team for Social Participation and Community Health, Tokyo Metropolitan Institute of Gerontology.'}]}, {'raw_affiliation': ['Department of Nutritional Science, Faculty of Applied Bioscience, Tokyo University of Agriculture.'], 'first_name': 'Azumi', 'last_name': 'Hida', 'corresponding': '', 'orcid': '', 'current_organization_id': '', 'researcher_id': '', 'affiliations': [{'raw_affiliation': 'Department of Nutritional Science, Faculty of Applied Bioscience, Tokyo University of Agriculture.', 'id': 'grid.410772.7', 'name': 'Tokyo University of Agriculture', 'city': 'Tokyo', 'city_id': 1850147, 'country': 'Japan', 'country_code': 'JP', 'state': None, 'state_code': None}]}, {'raw_affiliation': ['Kagawa Nutrition University.'], 'first_name': 'Shoji', 'last_name': 'Shinkai', 'corresponding': '', 'orcid': '', 'current_organization_id': '', 'researcher_id': '', 'affiliations': [{'raw_affiliation': 'Kagawa Nutrition University.', 'id': 'grid.411981.4', 'name': 'Kagawa Nutrition University', 'city': 'Saitama', 'city_id': 6940394, 'country': 'Japan', 'country_code': 'JP', 'state': None, 'state_code': None}]}, {'raw_affiliation': ['Research Team for Social Participation and Community Health, Tokyo Metropolitan Institute of Gerontology.'], 'first_name': 'Akihiko', 'last_name': 'Kitamura', 'corresponding': '', 'orcid': '', 'current_organization_id': '', 'researcher_id': '', 'affiliations': [{'name': 'Research Team for Social Participation and Community Health, Tokyo Metropolitan Institute of Gerontology.'}]}]], 'id': 'pub.1137488893'}, {'volume': '49', 'type': 'monograph', 'title': 'Metroethnicity, Naming and Mocknolect', 'year': 2021, 'author_affiliations': [[{'raw_affiliation': ['International Christian University, Tokyo'], 'first_name': 'John C.', 'last_name': 'Maher', 'corresponding': '', 'orcid': '', 'current_organization_id': 'grid.411724.5', 'researcher_id': 'ur.016317374571.48', 'affiliations': [{'raw_affiliation': 'International Christian University, Tokyo', 'id': 'grid.411724.5', 'name': 'International Christian University', 'city': 'Tokyo', 'city_id': 1850147, 'country': 'Japan', 'country_code': 'JP', 'state': None, 'state_code': None}]}]], 'id': 'pub.1132551080'}, {'volume': '55', 'type': 'article', 'pages': '181-213', 'issue': '1', 'title': 'From The Tale of the Bamboo Cutter to Princess Kaguya: Metamorphoses of the Tale in Manga and Beyond', 'journal': {'id': 'jour.1270843', 'title': 'Japanese Language and Literature'}, 'year': 2021, 'author_affiliations': [[{'raw_affiliation': ['Institute of Asian Cultural Studies, International Christian University (Researcher)'], 'first_name': 'Mika', 'last_name': 'Saito', 'corresponding': '', 'orcid': '', 'current_organization_id': '', 'researcher_id': '', 'affiliations': [{'name': 'Institute of Asian Cultural Studies, International Christian University (Researcher)'}]}]], 'id': 'pub.1137394239'}]}\n"
          ],
          "name": "stdout"
        }
      ]
    },
    {
      "cell_type": "markdown",
      "metadata": {
        "Collapsed": "false",
        "id": "6LO4oGGA93Q0"
      },
      "source": [
        "If the details are correct, you should see some JSON results being returned, which looks like this \n",
        "\n",
        "```\n",
        "{'_stats': {'total_count': 103121703}, 'publications': [{'title': 'Sure 16,1 - 23,118', 'type': 'book', 'id': 'pub.1113244530', 'year': 2019}, {'title': 'Deutungsmacht von Zeitdiagnosen', 'type': 'book', 'id': 'pub.1113146259', 'year': 2019}, {'title': '“So You Want to Write about American Indians?” Ethical Reflections on Euro-Academia’s Research on Indigenous Cultural Narratives', 'author_affiliations': ....\n",
        "```"
      ]
    },
    {
      "cell_type": "markdown",
      "metadata": {
        "Collapsed": "false",
        "id": "J6mdcc8293Q0"
      },
      "source": [
        "### Legacy authentication method: username & password\n",
        "\n",
        "Some legacy users may still have to authenticate using their Dimensions **username** and **password**. \n",
        "\n",
        "If that’s the case, simply replace the beginning of the snippet above as follows:"
      ]
    },
    {
      "cell_type": "code",
      "metadata": {
        "Collapsed": "false",
        "id": "RG95wzou93Q1"
      },
      "source": [
        "#   Deprecated method if you don't have a key \n",
        "\n",
        "login = {\n",
        "    'username': 'ENTER YOUR USERNAME HERE',\n",
        "    'password': 'ENTER YOUR PASSWORD HERE'\n",
        "}\n",
        "\n",
        "#   Send credentials to login url to retrieve token. Raise\n",
        "#   an error, if the return code indicates a problem.\n",
        "#   Please use the URL of the system you'd like to access the API\n",
        "#   in the example below.\n",
        "resp = requests.post(f'https://{ENDPOINT}/api/auth.json', json=login)\n",
        "resp.raise_for_status()\n",
        "\n",
        "#   Create http header using the generated token.\n",
        "headers = {\n",
        "    'Authorization': \"JWT \" + resp.json()['token']\n",
        "}\n",
        "\n",
        "#   Execute DSL query.\n",
        "resp = requests.post(\n",
        "    f'https://{ENDPOINT}/api/dsl.json',\n",
        "    data='search publications for \"乳がん\" return publications'.encode(),\n",
        "    headers=headers)\n",
        "\n",
        "#   Display raw result\n",
        "print(resp.json())"
      ],
      "execution_count": null,
      "outputs": []
    },
    {
      "cell_type": "markdown",
      "metadata": {
        "Collapsed": "false",
        "id": "G0_gV-7b9UBk"
      },
      "source": [
        "### Troubleshooting \n",
        "\n",
        "If you get an error it may be for any of these reasons:\n",
        "\n",
        "* your Dimensions credentials do not support API access\n",
        "* you mispelled your key \n",
        "* you mispelled the endpoint URL (if unknown, you can try 'app.dimensions.ai')\n",
        "* you don't have a working internet connection \n",
        "\n",
        "It's also useful to take a look at the [API official documentation](https://docs.dimensions.ai/dsl/api.html) as there various other way to test your API connection. "
      ]
    }
  ]
}